{
 "cells": [
  {
   "cell_type": "code",
   "execution_count": 19,
   "id": "fc501e02",
   "metadata": {},
   "outputs": [
    {
     "name": "stdout",
     "output_type": "stream",
     "text": [
      "97 is a prime number\n"
     ]
    }
   ],
   "source": [
    "#Prime Numbers Code\n",
    "#A prime number is a natural number greater than 1 that has no positive divisors other than 1 and itself.\n",
    "#To check whether the given number is prime or no, we gave num = some number\n",
    "#In the if-else loop (num > 1), for i ranging from 2, num divisible by 2 and adding 1 to it. In if loop where num when divided by i gives 0 as remainder, then that is not a prime number\n",
    "#break is given for the statement to come out of the loop if (num % i)==0:\n",
    "#the inner else statement is nested inside the for loop and means that if the num couldn't be divided by any number in the loop, making it a prime number.\n",
    "#the outer else statement is outside the for loop and means that num less than or equal to 1 are not considered as prime numbers.\n",
    "\n",
    "num = 97\n",
    "\n",
    "if num > 1:\n",
    "     for i in range(2, (num//2)+1):\n",
    "         if (num % i)==0:\n",
    "            print(num, \"is not a prime number\")\n",
    "            break\n",
    "     else:\n",
    "         print(num, \"is a prime number\")\n",
    "else:\n",
    "     print(num, \"is not a prime number\")"
   ]
  },
  {
   "cell_type": "code",
   "execution_count": 1,
   "id": "d21ac137",
   "metadata": {},
   "outputs": [
    {
     "name": "stdout",
     "output_type": "stream",
     "text": [
      "what is the product of51and76?3876\n",
      "Yay! you have got it right, the product is 3876\n"
     ]
    }
   ],
   "source": [
    "#Product of random numbers\n",
    "#a*b = c\n",
    "#a*b\n",
    "#Import random library, assign two values using random.randint()\n",
    "#With the formula, product is calculated\n",
    "#For taking user inputs we add strings a and b\n",
    "#using if-else loop, the comparison between user_product and product is done. Then the message is printed on the screen according to the inputs given by the user\n",
    "\n",
    "import random\n",
    "\n",
    "a = random.randint(1,100)\n",
    "b = random.randint(1,100)\n",
    "\n",
    "product = a*b\n",
    "\n",
    "user_product = int(input( \"what is the product of\" + str(a)+ \"and\" +str(b)+\"?\"))\n",
    "\n",
    "if user_product == product:\n",
    " print(\"Yay! you have got it right, the product is\" , product )\n",
    "else:\n",
    "    print(\"Oops! give another try, the product is not\", product)\n",
    "    "
   ]
  },
  {
   "cell_type": "code",
   "execution_count": 12,
   "id": "168b52a7",
   "metadata": {},
   "outputs": [
    {
     "name": "stdout",
     "output_type": "stream",
     "text": [
      "Squares of even numbers: 10000\n",
      "Squares of even numbers: 10404\n",
      "Squares of even numbers: 10816\n",
      "Squares of even numbers: 11236\n",
      "Squares of even numbers: 11664\n",
      "Squares of even numbers: 12100\n",
      "Squares of even numbers: 12544\n",
      "Squares of even numbers: 12996\n",
      "Squares of even numbers: 13456\n",
      "Squares of even numbers: 13924\n",
      "Squares of even numbers: 14400\n",
      "Squares of even numbers: 14884\n",
      "Squares of even numbers: 15376\n",
      "Squares of even numbers: 15876\n",
      "Squares of even numbers: 16384\n",
      "Squares of even numbers: 16900\n",
      "Squares of even numbers: 17424\n",
      "Squares of even numbers: 17956\n",
      "Squares of even numbers: 18496\n",
      "Squares of even numbers: 19044\n",
      "Squares of even numbers: 19600\n",
      "Squares of even numbers: 20164\n",
      "Squares of even numbers: 20736\n",
      "Squares of even numbers: 21316\n",
      "Squares of even numbers: 21904\n",
      "Squares of even numbers: 22500\n",
      "Squares of even numbers: 23104\n",
      "Squares of even numbers: 23716\n",
      "Squares of even numbers: 24336\n",
      "Squares of even numbers: 24964\n",
      "Squares of even numbers: 25600\n",
      "Squares of even numbers: 26244\n",
      "Squares of even numbers: 26896\n",
      "Squares of even numbers: 27556\n",
      "Squares of even numbers: 28224\n",
      "Squares of even numbers: 28900\n",
      "Squares of even numbers: 29584\n",
      "Squares of even numbers: 30276\n",
      "Squares of even numbers: 30976\n",
      "Squares of even numbers: 31684\n",
      "Squares of even numbers: 32400\n",
      "Squares of even numbers: 33124\n",
      "Squares of even numbers: 33856\n",
      "Squares of even numbers: 34596\n",
      "Squares of even numbers: 35344\n",
      "Squares of even numbers: 36100\n",
      "Squares of even numbers: 36864\n",
      "Squares of even numbers: 37636\n",
      "Squares of even numbers: 38416\n",
      "Squares of even numbers: 39204\n",
      "Squares of even numbers: 40000\n"
     ]
    }
   ],
   "source": [
    "#Squares of Odd or Even numbers\n",
    "#n2\n",
    "#100-200 \n",
    "#We are taking even numbers for further calculations\n",
    "#even numbers n+1\n",
    "#As given, started from 100 and ended at 200, using for loop in range of start and end with 2 generating consecutive numbers whihc are even\n",
    "#using formula, we print squares of even numbers\n",
    "\n",
    "start_range = 100\n",
    "end_range = 200\n",
    "\n",
    "for num in range (start_range, end_range+1,2):\n",
    "  square = num * num\n",
    "  print(\"Squares of even numbers:\", square)"
   ]
  },
  {
   "cell_type": "code",
   "execution_count": 74,
   "id": "2cf2fa21",
   "metadata": {},
   "outputs": [
    {
     "name": "stdout",
     "output_type": "stream",
     "text": [
      "'this' : 2\n",
      "'is' : 1\n",
      "'a' : 1\n",
      "'sample' : 1\n",
      "'text' : 2\n",
      "'will' : 1\n",
      "'be' : 1\n",
      "'used' : 1\n",
      "'to' : 1\n",
      "'demonstrate' : 1\n",
      "'the' : 1\n",
      "'word' : 1\n",
      "'counter' : 1\n"
     ]
    }
   ],
   "source": [
    "#Word Counter\n",
    "#Counting the number of words in the given text\n",
    "#In the given text we see that there are few repeated words, those words will be calculated based on how many times they are repeated\n",
    "#Converting the alphabets into lower case and splitting the text into words, then the punctuations are also removed\n",
    "#word_counts are assigned to dictionaries for keeping a count of each word with accuaracy \n",
    "#In if-else loop, words in the word_counts are represneted as =+1 for repeated word count, =1 for single word count\n",
    "#Then with the help of dictionaries, word and count are correctly displayed in the output alomg the number of times it occurs\n",
    "\n",
    "input_text = \"This is a sample text. This text will be used to demonstrate the word counter.\"\n",
    "\n",
    "words = input_text.lower().split()\n",
    "word_counts = {}\n",
    "for word in words:\n",
    "    \n",
    " word = word.rstrip(\".,!?\")\n",
    "\n",
    " if word in word_counts:\n",
    "    word_counts[word] += 1\n",
    " else:\n",
    "    word_counts[word] = 1\n",
    "    \n",
    "for word, count in word_counts.items():      \n",
    " print(f\"'{word}' : {count}\")"
   ]
  },
  {
   "cell_type": "code",
   "execution_count": 123,
   "id": "7ef5eb5b",
   "metadata": {},
   "outputs": [
    {
     "name": "stdout",
     "output_type": "stream",
     "text": [
      "Enter a text:racecar\n",
      "True\n"
     ]
    }
   ],
   "source": [
    "#Check for palindrome\n",
    "#here we are using join to combine the characters into a new string and we are converting everything into lower case to make it easier without errors and also are eliminating the alphanumerics if provided\n",
    "#then in return statement we are slicing which reverses the string given\n",
    "#In if-else statement user_text is taken as the main element and and boolean values are displayed based on the user inputs\n",
    "\n",
    "def is_palindrome(text):\n",
    "\n",
    " text =''.join(char for char in text.lower()if char.isalnum())\n",
    "         \n",
    " return text == text[::-1]\n",
    "\n",
    "user_text = input(\"Enter a text:\")\n",
    "if is_palindrome(user_text):\n",
    "    print(\"True\")\n",
    "else:\n",
    "    print(\"False\")"
   ]
  },
  {
   "cell_type": "code",
   "execution_count": null,
   "id": "e61b9ecf",
   "metadata": {},
   "outputs": [],
   "source": []
  }
 ],
 "metadata": {
  "kernelspec": {
   "display_name": "Python 3 (ipykernel)",
   "language": "python",
   "name": "python3"
  },
  "language_info": {
   "codemirror_mode": {
    "name": "ipython",
    "version": 3
   },
   "file_extension": ".py",
   "mimetype": "text/x-python",
   "name": "python",
   "nbconvert_exporter": "python",
   "pygments_lexer": "ipython3",
   "version": "3.11.5"
  }
 },
 "nbformat": 4,
 "nbformat_minor": 5
}
